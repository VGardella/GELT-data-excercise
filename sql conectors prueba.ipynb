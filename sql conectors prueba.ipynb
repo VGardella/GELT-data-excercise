{
 "cells": [
  {
   "cell_type": "code",
   "execution_count": 55,
   "metadata": {},
   "outputs": [],
   "source": [
    "\n",
    "import pandas as pd\n",
    "\n",
    "\n",
    "users = pd.read_csv('C:/Users/Pacarena/Documents/GELT_data/users_limpio.csv')\n",
    "users['birth_year'] = users['birth_year'].fillna(0)\n",
    "users['birth_year'] = users['birth_year'].astype('int64')\n",
    "tickets = pd.read_csv(\"C:/Users/Pacarena/Documents/GELT_data/tickets_limpio.csv\")\n",
    "ticket_lines = pd.read_csv(\"C:/Users/Pacarena/Documents/GELT_data/ticket_lines_limpio.csv\")\n",
    "users_activity = pd.read_csv('C:/Users/Pacarena/Documents/GELT_data/users_activity_limpio.csv')\n",
    "\n",
    "import pyodbc\n",
    "\n",
    "def conect_db(dict):\n",
    "        global cursor\n",
    "        server = dict['server']\n",
    "        database = dict['database']\n",
    "        specs = ('Driver={SQL Server};'\n",
    "                f'Server={server};'\n",
    "                f'Database={database};'\n",
    "                'Trusted_Connection=yes;')\n",
    "        con = pyodbc.connect(specs, autocommit=True)\n",
    "        cursor = con.cursor()\n",
    "        print('Connection Successfully Established.')\n",
    "\n",
    "def insert_data():\n",
    "\n",
    "    for row in users.itertuples():\n",
    "        cursor.execute('''\n",
    "                    INSERT INTO users (user_id, gender, birth_year, adults_at_home, kids_at_home,\n",
    "                    pet, province, age_group)\n",
    "                    VALUES (?,?,?,?,?,?,?,?)\n",
    "                    ''',\n",
    "                    row.user_id, \n",
    "                    row.gender,\n",
    "                    row.birth_year,\n",
    "                    row.adults_at_home,\n",
    "                    row.kids_at_home,\n",
    "                    row.pet,\n",
    "                    row.province,\n",
    "                    row.age_group\n",
    "                    )\n",
    "    print('Data successfully uploaded to \"users\".')\n",
    "\n",
    "    for row in tickets.itertuples():\n",
    "        cursor.execute('''\n",
    "                    INSERT INTO tickets (ticket_id, user_id, retailer, payment_method, date,\n",
    "                    ticket_amount)\n",
    "                    VALUES (?,?,?,?,?,?)\n",
    "                    ''',\n",
    "                    row.ticket_id, \n",
    "                    row.user_id,\n",
    "                    row.retailer,\n",
    "                    row.payment_method,\n",
    "                    row.date,\n",
    "                    row.ticket_amount\n",
    "                    )\n",
    "    print('Data successfully uploaded to \"tickets\".')\n",
    "\n",
    "    for row in ticket_lines.itertuples():\n",
    "        cursor.execute('''\n",
    "                    INSERT INTO ticket_lines (id, ticket_id, category1_id, category1_name, category2_id, category2_name,\n",
    "                    product_name, units, total_amount)\n",
    "                    VALUES (?,?,?,?,?,?,?,?,?)\n",
    "                    ''',\n",
    "                    row.id, \n",
    "                    row.ticket_id,\n",
    "                    row.category1_id,\n",
    "                    row.category1_name,\n",
    "                    row.category2_id,\n",
    "                    row.category2_name,\n",
    "                    row.product_name,\n",
    "                    row.units,\n",
    "                    row.total_amount\n",
    "                    )\n",
    "    print('Data successfully uploaded to \"ticket_lines\".')\n",
    "\n",
    "    for row in users_activity.itertuples():\n",
    "        cursor.execute('''\n",
    "                    INSERT INTO users_activity (user_id, total_tickets, preferred_retailer, preferred_payment_method, total_spent)\n",
    "                    VALUES (?,?,?,?,?)\n",
    "                    ''',\n",
    "                    row.user_id, \n",
    "                    row.total_tickets,\n",
    "                    row.preferred_retailer,\n",
    "                    row.preferred_payment_method,\n",
    "                    row.total_spent,\n",
    "                    )\n",
    "    print('Data successfully uploaded to \"users_activity\".')\n",
    "    \n",
    "    con.commit()\n",
    "\n",
    "def disconect_db():\n",
    "    cursor.close()\n",
    "    print('Conection closed.')"
   ]
  },
  {
   "cell_type": "code",
   "execution_count": 53,
   "metadata": {},
   "outputs": [],
   "source": [
    "def sql_upload(server, database):\n",
    "    conect_db(server, database)\n",
    "    insert_data()\n",
    "    disconect_db()"
   ]
  },
  {
   "cell_type": "code",
   "execution_count": 56,
   "metadata": {},
   "outputs": [
    {
     "name": "stdout",
     "output_type": "stream",
     "text": [
      "Connection Successfully Established.\n",
      "Data successfully uploaded to \"users\".\n",
      "Data successfully uploaded to \"tickets\".\n",
      "Data successfully uploaded to \"ticket_lines\".\n",
      "Data successfully uploaded to \"users_activity\".\n",
      "Conection closed.\n"
     ]
    }
   ],
   "source": [
    "sql_upload('CUCALAGRANDE\\SQLEXPRESS', 'Gelt')"
   ]
  },
  {
   "cell_type": "code",
   "execution_count": 58,
   "metadata": {},
   "outputs": [
    {
     "name": "stdout",
     "output_type": "stream",
     "text": [
      "CUCALAGRANDE\\SQLEXPRESS, Gelt\n"
     ]
    }
   ],
   "source": [
    "datos_servidor = {'servidor': 'CUCALAGRANDE\\SQLEXPRESS', 'database':'Gelt'}\n",
    "\n",
    "servidor = datos_servidor['servidor']\n",
    "database = datos_servidor['database']\n",
    "\n",
    "print(f'{servidor}, {database}')\n"
   ]
  }
 ],
 "metadata": {
  "kernelspec": {
   "display_name": "Python 3.9.12 ('base')",
   "language": "python",
   "name": "python3"
  },
  "language_info": {
   "codemirror_mode": {
    "name": "ipython",
    "version": 3
   },
   "file_extension": ".py",
   "mimetype": "text/x-python",
   "name": "python",
   "nbconvert_exporter": "python",
   "pygments_lexer": "ipython3",
   "version": "3.9.12"
  },
  "orig_nbformat": 4,
  "vscode": {
   "interpreter": {
    "hash": "67dad2dbd35a66470b286af0cb0578f0475fdbc802e7a1f13671a5e3131e3f15"
   }
  }
 },
 "nbformat": 4,
 "nbformat_minor": 2
}
