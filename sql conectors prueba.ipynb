{
 "cells": [
  {
   "cell_type": "code",
   "execution_count": 36,
   "metadata": {},
   "outputs": [
    {
     "ename": "ProgrammingError",
     "evalue": "('42000', '[42000] [Microsoft][ODBC SQL Server Driver][SQL Server]Cannot obtain the required interface (\"IID_IColumnsInfo\") from OLE DB provider \"BULK\" for linked server \"(null)\". (7301) (SQLExecDirectW)')",
     "output_type": "error",
     "traceback": [
      "\u001b[1;31m---------------------------------------------------------------------------\u001b[0m",
      "\u001b[1;31mProgrammingError\u001b[0m                          Traceback (most recent call last)",
      "\u001b[1;32mUntitled-1.ipynb Celda 1\u001b[0m in \u001b[0;36m<cell line: 11>\u001b[1;34m()\u001b[0m\n\u001b[0;32m      <a href='vscode-notebook-cell:Untitled-1.ipynb?jupyter-notebook#W0sdW50aXRsZWQ%3D?line=7'>8</a>\u001b[0m con \u001b[39m=\u001b[39m pyodbc\u001b[39m.\u001b[39mconnect(specs)\n\u001b[0;32m      <a href='vscode-notebook-cell:Untitled-1.ipynb?jupyter-notebook#W0sdW50aXRsZWQ%3D?line=8'>9</a>\u001b[0m cursor \u001b[39m=\u001b[39m con\u001b[39m.\u001b[39mcursor()\n\u001b[1;32m---> <a href='vscode-notebook-cell:Untitled-1.ipynb?jupyter-notebook#W0sdW50aXRsZWQ%3D?line=10'>11</a>\u001b[0m cursor\u001b[39m.\u001b[39;49mexecute(\u001b[39m\"\u001b[39;49m\u001b[39mBULK INSERT dbo.users FROM \u001b[39;49m\u001b[39m'\u001b[39;49m\u001b[39mC:/Users/Pacarena/Documents/GELT_data/users_limpio.csv\u001b[39;49m\u001b[39m'\u001b[39;49m\u001b[39m WITH (FORMAT=\u001b[39;49m\u001b[39m'\u001b[39;49m\u001b[39mCSV\u001b[39;49m\u001b[39m'\u001b[39;49m\u001b[39m, FIRSTROW = 2, KEEPNULLS,FIELDTERMINATOR = \u001b[39;49m\u001b[39m'\u001b[39;49m\u001b[39m,\u001b[39;49m\u001b[39m'\u001b[39;49m\u001b[39m, ROWTERMINATOR = \u001b[39;49m\u001b[39m'\u001b[39;49m\u001b[39m\\n\u001b[39;49;00m\u001b[39m'\u001b[39;49m\u001b[39m)\u001b[39;49m\u001b[39m\"\u001b[39;49m)\n\u001b[0;32m     <a href='vscode-notebook-cell:Untitled-1.ipynb?jupyter-notebook#W0sdW50aXRsZWQ%3D?line=11'>12</a>\u001b[0m \u001b[39mprint\u001b[39m(cursor\u001b[39m.\u001b[39mfetchall())\n",
      "\u001b[1;31mProgrammingError\u001b[0m: ('42000', '[42000] [Microsoft][ODBC SQL Server Driver][SQL Server]Cannot obtain the required interface (\"IID_IColumnsInfo\") from OLE DB provider \"BULK\" for linked server \"(null)\". (7301) (SQLExecDirectW)')"
     ]
    }
   ],
   "source": [
    "import pyodbc \n",
    "import pandas as pd\n",
    "\n",
    "specs = ('Driver={SQL Server};'\n",
    "        'Server=CUCALAGRANDE\\SQLEXPRESS;'\n",
    "        'Database=Gelt;'\n",
    "        'Trusted_Connection=yes;')\n",
    "con = pyodbc.connect(specs)\n",
    "cursor = con.cursor()\n",
    "\n",
    "cursor.execute(\"BULK INSERT dbo.users FROM 'C:/Users/Pacarena/Documents/GELT_data/users_limpio.csv' WITH (FORMAT='CSV', FIRSTROW = 2, KEEPNULLS,FIELDTERMINATOR = ',', ROWTERMINATOR = '0x0a')\")\n",
    "print(cursor.fetchall())\n"
   ]
  },
  {
   "cell_type": "code",
   "execution_count": 28,
   "metadata": {},
   "outputs": [],
   "source": [
    "cursor.close()"
   ]
  }
 ],
 "metadata": {
  "kernelspec": {
   "display_name": "Python 3.9.12 ('base')",
   "language": "python",
   "name": "python3"
  },
  "language_info": {
   "codemirror_mode": {
    "name": "ipython",
    "version": 3
   },
   "file_extension": ".py",
   "mimetype": "text/x-python",
   "name": "python",
   "nbconvert_exporter": "python",
   "pygments_lexer": "ipython3",
   "version": "3.9.12"
  },
  "orig_nbformat": 4,
  "vscode": {
   "interpreter": {
    "hash": "67dad2dbd35a66470b286af0cb0578f0475fdbc802e7a1f13671a5e3131e3f15"
   }
  }
 },
 "nbformat": 4,
 "nbformat_minor": 2
}
