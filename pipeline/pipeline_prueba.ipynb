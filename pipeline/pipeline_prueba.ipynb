{
 "cells": [
  {
   "cell_type": "code",
   "execution_count": 411,
   "metadata": {},
   "outputs": [],
   "source": [
    "import pandas as pd\n",
    "import numpy as np\n",
    "from datetime import datetime\n",
    "from pathlib import Path\n",
    "\n",
    "''' \n",
    "Este pipeline se generó para las tablas con los nombres \"users\", \"tickets\" y \"ticket_lines\"\n",
    "por lo que va a utilizar los nombres mencionados anteriormente para realizar las operaciones necesarias.\n",
    "En el archivo asociado con el diccionario añadir los valores correspondientes a los nuevos path respetando\n",
    "los nombres usados para los archivos.\n",
    "'''\n",
    "\n",
    "def data_load(files):\n",
    "    for x in files:\n",
    "        data = files[x]['file_name']\n",
    "        globals()[data] = pd.read_csv(files[x]['file_path'])\n",
    "        print(f'{data} created correctly.')\n",
    "    return 'All files processed. Use \"file_name\" as variable name.'\n",
    "\n",
    "def data_cleaning(files):\n",
    "    global users, tickets, ticket_lines\n",
    "    for x in files:\n",
    "        if files[x]['file_name'] == 'users':\n",
    "\n",
    "            users.rename(columns = {'id': 'user_id'}, inplace=True)\n",
    "            print('\"users\" column name changed: id -> user_id')\n",
    "\n",
    "            users['gender'] = users['gender'].replace([0, 1, 2, 3], ['Masculino', 'Femenino', 'No Binario', 'Otro'])\n",
    "            users['kids_at_home'] = users['kids_at_home'].fillna(0)\n",
    "            users['pet'] = users['pet'].fillna('Ninguno')\n",
    "            users['pet'] = users['pet'].replace('0', 'Ninguno')\n",
    "            users['province'] = users['province'].apply(lambda x: x.title())\n",
    "            print('\"users\" table data corrected.')\n",
    "\n",
    "        if files[x]['file_name'] == 'tickets':\n",
    "            \n",
    "            tickets.rename(columns = {'id': 'ticket_id'}, inplace=True)\n",
    "            print('\"ticket\" column name changed: id -> ticket_id')\n",
    "\n",
    "            tickets['retailer'] = tickets['retailer'].apply(lambda x: x.title())\n",
    "            tickets['payment_method'] = tickets['payment_method'].fillna('DES')\n",
    "            print('\"tickets\" table data corrected.')\n",
    "\n",
    "    return 'All tables correctrly cleaned'\n",
    "\n",
    "def data_analysis(files):\n",
    "    global labels, groups, users, tickets, ticket_lines\n",
    "    for x in files:\n",
    "        if files[x]['file_name'] == 'users':\n",
    "\n",
    "            users['age_group'] = pd.cut(datetime.today().year - users['birth_year'], bins = group, labels = labels, ordered=False).fillna('Otros')\n",
    "\n",
    "            users = pd.merge(users, tickets[['user_id', 'ticket_id']].groupby('user_id').count(), \\\n",
    "                'left', left_on='user_id', right_on='user_id').rename(columns={'ticket_id': 'total_tickets'})\n",
    "\n",
    "            users = pd.merge(users, tickets[['user_id', 'retailer']].groupby('user_id').apply(lambda x: x['retailer'].value_counts().index[0]).rename('preferred_retailer'), \\\n",
    "                'left', left_on='user_id', right_on='user_id')\n",
    "\n",
    "            users = pd.merge(users, tickets[['user_id', 'payment_method']].groupby('user_id').apply(lambda x: x['payment_method'].value_counts().index[0]).rename('preferred_payment_method'), \\\n",
    "                'left', left_on='user_id', right_on='user_id')\n",
    "\n",
    "            total_purchases = pd.DataFrame(pd.merge(tickets[['user_id', 'ticket_id']], ticket_lines[['id', 'ticket_id', 'total_amount']], 'left', left_on='ticket_id', right_on='ticket_id'))\n",
    "            users = pd.merge(users, total_purchases[['user_id', 'total_amount']].groupby('user_id').sum('total_amount'), \\\n",
    "                'right', left_on='user_id', right_on='user_id').rename(columns={'total_amount': 'total_spent'})\n",
    "            print('New columns added to \"users\" table.')\n",
    "\n",
    "        if files[x]['file_name'] == 'tickets':\n",
    "\n",
    "            tickets = pd.merge(tickets, ticket_lines[['ticket_id', 'total_amount']].groupby('ticket_id').sum(), \\\n",
    "                'left', left_on='ticket_id', right_on='ticket_id').rename(columns={'total_amount' : 'ticket_amount'})\n",
    "            print('New columns added to \"tickets\" table.')\n",
    "    return 'All new columns created.'\n",
    "\n",
    "def data_type_mod(files):\n",
    "    for x in files:\n",
    "        if files[x]['file_name'] == 'users':\n",
    "            users[['gender', 'pet', 'preferred_payment_method']] = users[['gender', 'pet', 'preferred_payment_method']].astype('category')\n",
    "            users[['kids_at_home']] = users[['kids_at_home']].astype('int64')\n",
    "    return 'Data types changed.'"
   ]
  },
  {
   "cell_type": "code",
   "execution_count": 404,
   "metadata": {},
   "outputs": [],
   "source": [
    "archivos = {1: {'file_name': 'users', 'file_path': 'C:/Users/Pacarena/Documents/GELT_data/users.csv'}, \n",
    "2: {'file_name': 'tickets', 'file_path':'C:/Users/Pacarena/Documents/GELT_data/tickets.csv'}, \n",
    "3: {'file_name': 'ticket_lines', 'file_path': 'C:/Users/Pacarena/Documents/GELT_data/ticket_lines.csv'}}\n",
    "\n",
    "group = [0, 15, 24, 39, 54, 75, 100]\n",
    "labels = ['Otros', '15-24', '25-39', '40-54', '55-75', 'Otros']\n",
    "\n"
   ]
  },
  {
   "cell_type": "code",
   "execution_count": 412,
   "metadata": {},
   "outputs": [],
   "source": [
    "def data_pipeline(files):\n",
    "    data_load(files)\n",
    "    data_cleaning(files)\n",
    "    data_analysis(files)\n",
    "    data_type_mod(files)"
   ]
  },
  {
   "cell_type": "code",
   "execution_count": 413,
   "metadata": {},
   "outputs": [
    {
     "name": "stdout",
     "output_type": "stream",
     "text": [
      "users created correctly.\n",
      "tickets created correctly.\n",
      "ticket_lines created correctly.\n",
      "\"users\" column name changed: id -> user_id\n",
      "\"users\" table data corrected.\n",
      "\"ticket\" column name changed: id -> ticket_id\n",
      "\"tickets\" table data corrected.\n",
      "New columns added to \"users\" table.\n",
      "New columns added to \"tickets\" table.\n"
     ]
    }
   ],
   "source": [
    "data_pipeline(archivos)"
   ]
  }
 ],
 "metadata": {
  "kernelspec": {
   "display_name": "Python 3.9.12 ('base')",
   "language": "python",
   "name": "python3"
  },
  "language_info": {
   "codemirror_mode": {
    "name": "ipython",
    "version": 3
   },
   "file_extension": ".py",
   "mimetype": "text/x-python",
   "name": "python",
   "nbconvert_exporter": "python",
   "pygments_lexer": "ipython3",
   "version": "3.9.12"
  },
  "orig_nbformat": 4,
  "vscode": {
   "interpreter": {
    "hash": "67dad2dbd35a66470b286af0cb0578f0475fdbc802e7a1f13671a5e3131e3f15"
   }
  }
 },
 "nbformat": 4,
 "nbformat_minor": 2
}
